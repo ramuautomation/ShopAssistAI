{
  "nbformat": 4,
  "nbformat_minor": 0,
  "metadata": {
    "colab": {
      "provenance": []
    },
    "kernelspec": {
      "name": "python3",
      "display_name": "Python 3"
    },
    "language_info": {
      "name": "python"
    }
  },
  "cells": [
    {
      "cell_type": "markdown",
      "source": [
        "# ShopAssist AI"
      ],
      "metadata": {
        "id": "WgmSXl2MKbCp"
      }
    },
    {
      "cell_type": "markdown",
      "source": [
        "#### Project Background\n",
        "\n",
        "## Introduction\n",
        "\n",
        "In today's digital age, online shopping has become the go-to option for many consumers. However, the overwhelming number of choices and the lack of personalized assistance can make the shopping experience daunting. To address this, we have developed **ShopAssist AI, a chatbot that combines the power of large language models and rule-based functions to ensure accurate and reliable information delivery**.\n",
        "\n",
        "\n",
        "#### Problem Statement\n",
        "\n",
        "*Given a dataset containing information about laptops (product names, specifications, descriptions, etc.), build a chatbot that parses the dataset and provides accurate laptop recommendations based on user requirements*.\n",
        "\n",
        "\n",
        "You can load the data and see it here."
      ],
      "metadata": {
        "id": "lbOi6G5KK01A"
      }
    },
    {
      "cell_type": "markdown",
      "source": [
        "#### Approach:\n",
        "\n",
        "1. **Conversation and Information Gathering**: The chatbot will utilize language models to understand and generate natural responses. Through a conversational flow, it will ask relevant questions to gather information about the user's requirements.\n",
        "2. **Information Extraction**: Once the essential information is collected, rule-based functions come into play, extracting top 3 laptops that best matches the user's needs.\n",
        "3. **Personalized Recommendation**: Leveraging this extracted information, the chatbot engages in further dialogue with the user, efficiently addressing their queries and aiding them in finding the perfect laptop solution."
      ],
      "metadata": {
        "id": "BgYelFOTLSPo"
      }
    },
    {
      "cell_type": "markdown",
      "source": [
        "## System Design"
      ],
      "metadata": {
        "id": "ArYvBEsLM9KN"
      }
    },
    {
      "cell_type": "markdown",
      "source": [
        "#### Dataset:\n",
        "We have a dataset `laptop.csv` where  each row describes the features of a single laptop and also has a small description at the end. The chatbot that we build will leverage LLMs to parse this `Description` column and provide recommendations"
      ],
      "metadata": {
        "id": "IN9LPTrZNDPL"
      }
    },
    {
      "cell_type": "markdown",
      "source": [
        "The chatbot should ask a series of questions to\n",
        "- Determine the user's requirments. For simplicity, we have used 6 features to encapsulate the user's needs. The 6 features are as follows:\n",
        "    - GPU intensity\n",
        "    - Display quality\n",
        "    - Portability\n",
        "    - Multitasking\n",
        "    - Processing speed\n",
        "    - Budget\n",
        "\n",
        "- Confirm if the user's requirements have been correctly captured at the end.\n",
        "\n",
        "After that the chatbot lists down the top 3 products that are the most relevant, and engages in further conversation to help the user find the best one."
      ],
      "metadata": {
        "id": "H645CiQQOCPq"
      }
    },
    {
      "cell_type": "markdown",
      "source": [
        "#### Building the Chatbot\n",
        "\n",
        "Now let's go ahead and understand the system design for the chatbot.\n",
        "\n",
        "![Chatbot_sys_design.png](https://drive.google.com/uc?id=1j-mw_dNcbxGcelQ0PmkDB0nKOpauU1wX)"
      ],
      "metadata": {
        "id": "3URZV4_kPTAq"
      }
    },
    {
      "cell_type": "markdown",
      "source": [
        "`Stage 1`\n",
        "- Intent Clarity Layer\n",
        "- Intent Confirmation Layer\n",
        "- Restart the conversation if change in Intent\n",
        "\n",
        "`Stage 2`\n",
        "\n",
        "- Product Mapping Layer\n",
        "- Product Information Extraction Layer\n",
        "\n",
        "`Stage 3`\n",
        "\n",
        "- Product Recommendation Layer"
      ],
      "metadata": {
        "id": "P3hlvP_AQ7lu"
      }
    },
    {
      "cell_type": "markdown",
      "source": [
        "##### Major functions behind the Chatbot\n",
        "\n",
        "Let's now look at a brief overview of the major functions that form the chatbot. We'll take a deep dive later\n",
        "\n",
        "\n",
        "\n",
        "- `initialize_conversation()`: This initializes the variable conversation with the system message.\n",
        "- `get_chat_completions()`: This takes the ongoing conversation as the input and returns the response by the assistant\n",
        "- `moderation_check()`: This checks if the user's or the assistant's message is inappropriate. If any of these is inappropriate, it ends the conversation.\n",
        "- `intent_confirmation_layer()`: This function takes the assistant's response and evaluates if the chatbot has captured the user's profile clearly. Specifically, this checks if the following properties for the user has been captured or not GPU intensity, Display quality, Portability, Multitasking, Processing speed, Budget\n",
        "- `is_intent_changed()`: Detects if the user changes the primary purpose or key preferences mid-conversation (e.g., from gaming to programming).Compares new user input to previous confirmed intents. If there's a shift in purpose or a major change in specs, it resets the conversation context and restarts the recommendation flow.\n",
        "- `compare_laptops_with_user()`: This function compares the user's profile with the different laptops and come back with the top 3 recommendations.\n",
        "- `initialize_conv_reco()`: Initializes the recommendations conversation"
      ],
      "metadata": {
        "id": "lVO3T6BNRD2d"
      }
    },
    {
      "cell_type": "markdown",
      "source": [
        "## Implementation:"
      ],
      "metadata": {
        "id": "8v_qK0LhRP_g"
      }
    },
    {
      "cell_type": "markdown",
      "source": [
        "### Import the libraries\n",
        "\n",
        "Let's start by importing the libraries that we'll require for this project. Following are the ones:\n",
        "- openai\n",
        "- pandas\n",
        "- os, json, ast\n",
        "\n",
        "Make sure the api key is stored in the text file `OPENAI_API_Key.txt`."
      ],
      "metadata": {
        "id": "NGggTPDYRkSt"
      }
    },
    {
      "cell_type": "code",
      "source": [
        "# Install OpenAI library\n",
        "!pip install -U -q openai tenacity"
      ],
      "metadata": {
        "id": "DzESVafBR2fv",
        "colab": {
          "base_uri": "https://localhost:8080/"
        },
        "outputId": "05f684f7-afad-4a99-ec06-3017f26db5a7"
      },
      "execution_count": null,
      "outputs": [
        {
          "output_type": "stream",
          "name": "stdout",
          "text": [
            "\u001b[?25l   \u001b[90m━━━━━━━━━━━━━━━━━━━━━━━━━━━━━━━━━━━━━━━━\u001b[0m \u001b[32m0.0/723.4 kB\u001b[0m \u001b[31m?\u001b[0m eta \u001b[36m-:--:--\u001b[0m\r\u001b[2K   \u001b[91m━━━━━━━━━━━━━━━━━━\u001b[0m\u001b[91m╸\u001b[0m\u001b[90m━━━━━━━━━━━━━━━━━━━━━\u001b[0m \u001b[32m337.9/723.4 kB\u001b[0m \u001b[31m10.2 MB/s\u001b[0m eta \u001b[36m0:00:01\u001b[0m\r\u001b[2K   \u001b[90m━━━━━━━━━━━━━━━━━━━━━━━━━━━━━━━━━━━━━━━━\u001b[0m \u001b[32m723.4/723.4 kB\u001b[0m \u001b[31m10.0 MB/s\u001b[0m eta \u001b[36m0:00:00\u001b[0m\n",
            "\u001b[?25h"
          ]
        }
      ]
    },
    {
      "cell_type": "code",
      "source": [
        "from google.colab import drive\n",
        "drive.mount('/content/drive')"
      ],
      "metadata": {
        "id": "AqIYjd4xR3tZ",
        "colab": {
          "base_uri": "https://localhost:8080/"
        },
        "outputId": "823cf688-6c6d-4ac0-f7f7-8c3cda305d5d"
      },
      "execution_count": null,
      "outputs": [
        {
          "output_type": "stream",
          "name": "stdout",
          "text": [
            "Mounted at /content/drive\n"
          ]
        }
      ]
    },
    {
      "cell_type": "code",
      "source": [
        "# Import the libraries\n",
        "import os, json, ast\n",
        "import pandas as pd\n",
        "import openai\n",
        "from tenacity import retry, wait_random_exponential, stop_after_attempt\n",
        "from google.colab import userdata"
      ],
      "metadata": {
        "id": "sSxbaX8sR858"
      },
      "execution_count": null,
      "outputs": []
    },
    {
      "cell_type": "code",
      "source": [
        "# Set the display width to control the output width\n",
        "pd.set_option('display.width', 100)\n",
        "# Read the dataset and read the Laptop Dataset\n",
        "df = pd.read_csv('laptop_data.csv')\n",
        "df.head()"
      ],
      "metadata": {
        "id": "ndZtL-IkS-dc",
        "colab": {
          "base_uri": "https://localhost:8080/",
          "height": 310
        },
        "outputId": "ec67cb7d-8c98-49c2-99d0-b0b6095544be"
      },
      "execution_count": null,
      "outputs": [
        {
          "output_type": "execute_result",
          "data": {
            "text/plain": [
              "    Brand   Model Name Core CPU Manufacturer Clock Speed RAM Size Storage Type Display Type  \\\n",
              "0    Dell     Inspiron   i5            Intel     2.4 GHz      8GB          SSD          LCD   \n",
              "1     MSI         GL65   i7            Intel     2.6 GHz     16GB      HDD+SSD          IPS   \n",
              "2      HP    EliteBook   i7            Intel     2.8 GHz     16GB          SSD          LED   \n",
              "3  Lenovo      IdeaPad   i3            Intel     2.1 GHz      8GB          HDD           TN   \n",
              "4    ASUS  ZenBook Pro   i9            Intel     3.1 GHz     64GB          SSD         OLED   \n",
              "\n",
              "  Display Size Graphics Processor Screen Resolution          OS Laptop Weight    Special Features  \\\n",
              "0        15.6\"          Intel UHD         1920x1080  Windows 10        2.5 kg    Backlit Keyboard   \n",
              "1        15.6\"         NVIDIA GTX         1920x1080  Windows 10        2.3 kg        RGB Keyboard   \n",
              "2          14\"          Intel UHD         1920x1080  Windows 11        1.5 kg  Fingerprint Sensor   \n",
              "3        15.6\"          Intel UHD          1366x768  Windows 10        2.2 kg         Dolby Audio   \n",
              "4        15.6\"         NVIDIA RTX         3840x2160  Windows 10        1.8 kg    NanoEdge Display   \n",
              "\n",
              "  Warranty Average Battery Life    Price                                        Description  \n",
              "0   1 year              6 hours   35,000  The Dell Inspiron is a versatile laptop that c...  \n",
              "1  2 years              4 hours   55,000  The MSI GL65 is a high-performance laptop desi...  \n",
              "2  3 years              8 hours   90,000  The HP EliteBook is a premium laptop designed ...  \n",
              "3   1 year              5 hours   25,000  The Lenovo IdeaPad is a versatile laptop that ...  \n",
              "4  2 years              7 hours  200,000  The ASUS ZenBook Pro is a high-end laptop that...  "
            ],
            "text/html": [
              "\n",
              "  <div id=\"df-0f610013-74ca-4475-97c5-69f496931b48\" class=\"colab-df-container\">\n",
              "    <div>\n",
              "<style scoped>\n",
              "    .dataframe tbody tr th:only-of-type {\n",
              "        vertical-align: middle;\n",
              "    }\n",
              "\n",
              "    .dataframe tbody tr th {\n",
              "        vertical-align: top;\n",
              "    }\n",
              "\n",
              "    .dataframe thead th {\n",
              "        text-align: right;\n",
              "    }\n",
              "</style>\n",
              "<table border=\"1\" class=\"dataframe\">\n",
              "  <thead>\n",
              "    <tr style=\"text-align: right;\">\n",
              "      <th></th>\n",
              "      <th>Brand</th>\n",
              "      <th>Model Name</th>\n",
              "      <th>Core</th>\n",
              "      <th>CPU Manufacturer</th>\n",
              "      <th>Clock Speed</th>\n",
              "      <th>RAM Size</th>\n",
              "      <th>Storage Type</th>\n",
              "      <th>Display Type</th>\n",
              "      <th>Display Size</th>\n",
              "      <th>Graphics Processor</th>\n",
              "      <th>Screen Resolution</th>\n",
              "      <th>OS</th>\n",
              "      <th>Laptop Weight</th>\n",
              "      <th>Special Features</th>\n",
              "      <th>Warranty</th>\n",
              "      <th>Average Battery Life</th>\n",
              "      <th>Price</th>\n",
              "      <th>Description</th>\n",
              "    </tr>\n",
              "  </thead>\n",
              "  <tbody>\n",
              "    <tr>\n",
              "      <th>0</th>\n",
              "      <td>Dell</td>\n",
              "      <td>Inspiron</td>\n",
              "      <td>i5</td>\n",
              "      <td>Intel</td>\n",
              "      <td>2.4 GHz</td>\n",
              "      <td>8GB</td>\n",
              "      <td>SSD</td>\n",
              "      <td>LCD</td>\n",
              "      <td>15.6\"</td>\n",
              "      <td>Intel UHD</td>\n",
              "      <td>1920x1080</td>\n",
              "      <td>Windows 10</td>\n",
              "      <td>2.5 kg</td>\n",
              "      <td>Backlit Keyboard</td>\n",
              "      <td>1 year</td>\n",
              "      <td>6 hours</td>\n",
              "      <td>35,000</td>\n",
              "      <td>The Dell Inspiron is a versatile laptop that c...</td>\n",
              "    </tr>\n",
              "    <tr>\n",
              "      <th>1</th>\n",
              "      <td>MSI</td>\n",
              "      <td>GL65</td>\n",
              "      <td>i7</td>\n",
              "      <td>Intel</td>\n",
              "      <td>2.6 GHz</td>\n",
              "      <td>16GB</td>\n",
              "      <td>HDD+SSD</td>\n",
              "      <td>IPS</td>\n",
              "      <td>15.6\"</td>\n",
              "      <td>NVIDIA GTX</td>\n",
              "      <td>1920x1080</td>\n",
              "      <td>Windows 10</td>\n",
              "      <td>2.3 kg</td>\n",
              "      <td>RGB Keyboard</td>\n",
              "      <td>2 years</td>\n",
              "      <td>4 hours</td>\n",
              "      <td>55,000</td>\n",
              "      <td>The MSI GL65 is a high-performance laptop desi...</td>\n",
              "    </tr>\n",
              "    <tr>\n",
              "      <th>2</th>\n",
              "      <td>HP</td>\n",
              "      <td>EliteBook</td>\n",
              "      <td>i7</td>\n",
              "      <td>Intel</td>\n",
              "      <td>2.8 GHz</td>\n",
              "      <td>16GB</td>\n",
              "      <td>SSD</td>\n",
              "      <td>LED</td>\n",
              "      <td>14\"</td>\n",
              "      <td>Intel UHD</td>\n",
              "      <td>1920x1080</td>\n",
              "      <td>Windows 11</td>\n",
              "      <td>1.5 kg</td>\n",
              "      <td>Fingerprint Sensor</td>\n",
              "      <td>3 years</td>\n",
              "      <td>8 hours</td>\n",
              "      <td>90,000</td>\n",
              "      <td>The HP EliteBook is a premium laptop designed ...</td>\n",
              "    </tr>\n",
              "    <tr>\n",
              "      <th>3</th>\n",
              "      <td>Lenovo</td>\n",
              "      <td>IdeaPad</td>\n",
              "      <td>i3</td>\n",
              "      <td>Intel</td>\n",
              "      <td>2.1 GHz</td>\n",
              "      <td>8GB</td>\n",
              "      <td>HDD</td>\n",
              "      <td>TN</td>\n",
              "      <td>15.6\"</td>\n",
              "      <td>Intel UHD</td>\n",
              "      <td>1366x768</td>\n",
              "      <td>Windows 10</td>\n",
              "      <td>2.2 kg</td>\n",
              "      <td>Dolby Audio</td>\n",
              "      <td>1 year</td>\n",
              "      <td>5 hours</td>\n",
              "      <td>25,000</td>\n",
              "      <td>The Lenovo IdeaPad is a versatile laptop that ...</td>\n",
              "    </tr>\n",
              "    <tr>\n",
              "      <th>4</th>\n",
              "      <td>ASUS</td>\n",
              "      <td>ZenBook Pro</td>\n",
              "      <td>i9</td>\n",
              "      <td>Intel</td>\n",
              "      <td>3.1 GHz</td>\n",
              "      <td>64GB</td>\n",
              "      <td>SSD</td>\n",
              "      <td>OLED</td>\n",
              "      <td>15.6\"</td>\n",
              "      <td>NVIDIA RTX</td>\n",
              "      <td>3840x2160</td>\n",
              "      <td>Windows 10</td>\n",
              "      <td>1.8 kg</td>\n",
              "      <td>NanoEdge Display</td>\n",
              "      <td>2 years</td>\n",
              "      <td>7 hours</td>\n",
              "      <td>200,000</td>\n",
              "      <td>The ASUS ZenBook Pro is a high-end laptop that...</td>\n",
              "    </tr>\n",
              "  </tbody>\n",
              "</table>\n",
              "</div>\n",
              "    <div class=\"colab-df-buttons\">\n",
              "\n",
              "  <div class=\"colab-df-container\">\n",
              "    <button class=\"colab-df-convert\" onclick=\"convertToInteractive('df-0f610013-74ca-4475-97c5-69f496931b48')\"\n",
              "            title=\"Convert this dataframe to an interactive table.\"\n",
              "            style=\"display:none;\">\n",
              "\n",
              "  <svg xmlns=\"http://www.w3.org/2000/svg\" height=\"24px\" viewBox=\"0 -960 960 960\">\n",
              "    <path d=\"M120-120v-720h720v720H120Zm60-500h600v-160H180v160Zm220 220h160v-160H400v160Zm0 220h160v-160H400v160ZM180-400h160v-160H180v160Zm440 0h160v-160H620v160ZM180-180h160v-160H180v160Zm440 0h160v-160H620v160Z\"/>\n",
              "  </svg>\n",
              "    </button>\n",
              "\n",
              "  <style>\n",
              "    .colab-df-container {\n",
              "      display:flex;\n",
              "      gap: 12px;\n",
              "    }\n",
              "\n",
              "    .colab-df-convert {\n",
              "      background-color: #E8F0FE;\n",
              "      border: none;\n",
              "      border-radius: 50%;\n",
              "      cursor: pointer;\n",
              "      display: none;\n",
              "      fill: #1967D2;\n",
              "      height: 32px;\n",
              "      padding: 0 0 0 0;\n",
              "      width: 32px;\n",
              "    }\n",
              "\n",
              "    .colab-df-convert:hover {\n",
              "      background-color: #E2EBFA;\n",
              "      box-shadow: 0px 1px 2px rgba(60, 64, 67, 0.3), 0px 1px 3px 1px rgba(60, 64, 67, 0.15);\n",
              "      fill: #174EA6;\n",
              "    }\n",
              "\n",
              "    .colab-df-buttons div {\n",
              "      margin-bottom: 4px;\n",
              "    }\n",
              "\n",
              "    [theme=dark] .colab-df-convert {\n",
              "      background-color: #3B4455;\n",
              "      fill: #D2E3FC;\n",
              "    }\n",
              "\n",
              "    [theme=dark] .colab-df-convert:hover {\n",
              "      background-color: #434B5C;\n",
              "      box-shadow: 0px 1px 3px 1px rgba(0, 0, 0, 0.15);\n",
              "      filter: drop-shadow(0px 1px 2px rgba(0, 0, 0, 0.3));\n",
              "      fill: #FFFFFF;\n",
              "    }\n",
              "  </style>\n",
              "\n",
              "    <script>\n",
              "      const buttonEl =\n",
              "        document.querySelector('#df-0f610013-74ca-4475-97c5-69f496931b48 button.colab-df-convert');\n",
              "      buttonEl.style.display =\n",
              "        google.colab.kernel.accessAllowed ? 'block' : 'none';\n",
              "\n",
              "      async function convertToInteractive(key) {\n",
              "        const element = document.querySelector('#df-0f610013-74ca-4475-97c5-69f496931b48');\n",
              "        const dataTable =\n",
              "          await google.colab.kernel.invokeFunction('convertToInteractive',\n",
              "                                                    [key], {});\n",
              "        if (!dataTable) return;\n",
              "\n",
              "        const docLinkHtml = 'Like what you see? Visit the ' +\n",
              "          '<a target=\"_blank\" href=https://colab.research.google.com/notebooks/data_table.ipynb>data table notebook</a>'\n",
              "          + ' to learn more about interactive tables.';\n",
              "        element.innerHTML = '';\n",
              "        dataTable['output_type'] = 'display_data';\n",
              "        await google.colab.output.renderOutput(dataTable, element);\n",
              "        const docLink = document.createElement('div');\n",
              "        docLink.innerHTML = docLinkHtml;\n",
              "        element.appendChild(docLink);\n",
              "      }\n",
              "    </script>\n",
              "  </div>\n",
              "\n",
              "\n",
              "    <div id=\"df-92e8c82e-7800-4c84-a043-23daabe29a27\">\n",
              "      <button class=\"colab-df-quickchart\" onclick=\"quickchart('df-92e8c82e-7800-4c84-a043-23daabe29a27')\"\n",
              "                title=\"Suggest charts\"\n",
              "                style=\"display:none;\">\n",
              "\n",
              "<svg xmlns=\"http://www.w3.org/2000/svg\" height=\"24px\"viewBox=\"0 0 24 24\"\n",
              "     width=\"24px\">\n",
              "    <g>\n",
              "        <path d=\"M19 3H5c-1.1 0-2 .9-2 2v14c0 1.1.9 2 2 2h14c1.1 0 2-.9 2-2V5c0-1.1-.9-2-2-2zM9 17H7v-7h2v7zm4 0h-2V7h2v10zm4 0h-2v-4h2v4z\"/>\n",
              "    </g>\n",
              "</svg>\n",
              "      </button>\n",
              "\n",
              "<style>\n",
              "  .colab-df-quickchart {\n",
              "      --bg-color: #E8F0FE;\n",
              "      --fill-color: #1967D2;\n",
              "      --hover-bg-color: #E2EBFA;\n",
              "      --hover-fill-color: #174EA6;\n",
              "      --disabled-fill-color: #AAA;\n",
              "      --disabled-bg-color: #DDD;\n",
              "  }\n",
              "\n",
              "  [theme=dark] .colab-df-quickchart {\n",
              "      --bg-color: #3B4455;\n",
              "      --fill-color: #D2E3FC;\n",
              "      --hover-bg-color: #434B5C;\n",
              "      --hover-fill-color: #FFFFFF;\n",
              "      --disabled-bg-color: #3B4455;\n",
              "      --disabled-fill-color: #666;\n",
              "  }\n",
              "\n",
              "  .colab-df-quickchart {\n",
              "    background-color: var(--bg-color);\n",
              "    border: none;\n",
              "    border-radius: 50%;\n",
              "    cursor: pointer;\n",
              "    display: none;\n",
              "    fill: var(--fill-color);\n",
              "    height: 32px;\n",
              "    padding: 0;\n",
              "    width: 32px;\n",
              "  }\n",
              "\n",
              "  .colab-df-quickchart:hover {\n",
              "    background-color: var(--hover-bg-color);\n",
              "    box-shadow: 0 1px 2px rgba(60, 64, 67, 0.3), 0 1px 3px 1px rgba(60, 64, 67, 0.15);\n",
              "    fill: var(--button-hover-fill-color);\n",
              "  }\n",
              "\n",
              "  .colab-df-quickchart-complete:disabled,\n",
              "  .colab-df-quickchart-complete:disabled:hover {\n",
              "    background-color: var(--disabled-bg-color);\n",
              "    fill: var(--disabled-fill-color);\n",
              "    box-shadow: none;\n",
              "  }\n",
              "\n",
              "  .colab-df-spinner {\n",
              "    border: 2px solid var(--fill-color);\n",
              "    border-color: transparent;\n",
              "    border-bottom-color: var(--fill-color);\n",
              "    animation:\n",
              "      spin 1s steps(1) infinite;\n",
              "  }\n",
              "\n",
              "  @keyframes spin {\n",
              "    0% {\n",
              "      border-color: transparent;\n",
              "      border-bottom-color: var(--fill-color);\n",
              "      border-left-color: var(--fill-color);\n",
              "    }\n",
              "    20% {\n",
              "      border-color: transparent;\n",
              "      border-left-color: var(--fill-color);\n",
              "      border-top-color: var(--fill-color);\n",
              "    }\n",
              "    30% {\n",
              "      border-color: transparent;\n",
              "      border-left-color: var(--fill-color);\n",
              "      border-top-color: var(--fill-color);\n",
              "      border-right-color: var(--fill-color);\n",
              "    }\n",
              "    40% {\n",
              "      border-color: transparent;\n",
              "      border-right-color: var(--fill-color);\n",
              "      border-top-color: var(--fill-color);\n",
              "    }\n",
              "    60% {\n",
              "      border-color: transparent;\n",
              "      border-right-color: var(--fill-color);\n",
              "    }\n",
              "    80% {\n",
              "      border-color: transparent;\n",
              "      border-right-color: var(--fill-color);\n",
              "      border-bottom-color: var(--fill-color);\n",
              "    }\n",
              "    90% {\n",
              "      border-color: transparent;\n",
              "      border-bottom-color: var(--fill-color);\n",
              "    }\n",
              "  }\n",
              "</style>\n",
              "\n",
              "      <script>\n",
              "        async function quickchart(key) {\n",
              "          const quickchartButtonEl =\n",
              "            document.querySelector('#' + key + ' button');\n",
              "          quickchartButtonEl.disabled = true;  // To prevent multiple clicks.\n",
              "          quickchartButtonEl.classList.add('colab-df-spinner');\n",
              "          try {\n",
              "            const charts = await google.colab.kernel.invokeFunction(\n",
              "                'suggestCharts', [key], {});\n",
              "          } catch (error) {\n",
              "            console.error('Error during call to suggestCharts:', error);\n",
              "          }\n",
              "          quickchartButtonEl.classList.remove('colab-df-spinner');\n",
              "          quickchartButtonEl.classList.add('colab-df-quickchart-complete');\n",
              "        }\n",
              "        (() => {\n",
              "          let quickchartButtonEl =\n",
              "            document.querySelector('#df-92e8c82e-7800-4c84-a043-23daabe29a27 button');\n",
              "          quickchartButtonEl.style.display =\n",
              "            google.colab.kernel.accessAllowed ? 'block' : 'none';\n",
              "        })();\n",
              "      </script>\n",
              "    </div>\n",
              "\n",
              "    </div>\n",
              "  </div>\n"
            ],
            "application/vnd.google.colaboratory.intrinsic+json": {
              "type": "dataframe",
              "variable_name": "df",
              "summary": "{\n  \"name\": \"df\",\n  \"rows\": 20,\n  \"fields\": [\n    {\n      \"column\": \"Brand\",\n      \"properties\": {\n        \"dtype\": \"category\",\n        \"num_unique_values\": 9,\n        \"samples\": [\n          \"Apple\",\n          \"MSI\",\n          \"Acer\"\n        ],\n        \"semantic_type\": \"\",\n        \"description\": \"\"\n      }\n    },\n    {\n      \"column\": \"Model Name\",\n      \"properties\": {\n        \"dtype\": \"string\",\n        \"num_unique_values\": 20,\n        \"samples\": [\n          \"Inspiron\",\n          \"ENVY x360\",\n          \"ZenBook 13\"\n        ],\n        \"semantic_type\": \"\",\n        \"description\": \"\"\n      }\n    },\n    {\n      \"column\": \"Core\",\n      \"properties\": {\n        \"dtype\": \"category\",\n        \"num_unique_values\": 8,\n        \"samples\": [\n          \"i7\",\n          \"Ryzen 5\",\n          \"i5\"\n        ],\n        \"semantic_type\": \"\",\n        \"description\": \"\"\n      }\n    },\n    {\n      \"column\": \"CPU Manufacturer\",\n      \"properties\": {\n        \"dtype\": \"category\",\n        \"num_unique_values\": 3,\n        \"samples\": [\n          \"Intel\",\n          \"AMD\",\n          \"Apple\"\n        ],\n        \"semantic_type\": \"\",\n        \"description\": \"\"\n      }\n    },\n    {\n      \"column\": \"Clock Speed\",\n      \"properties\": {\n        \"dtype\": \"string\",\n        \"num_unique_values\": 10,\n        \"samples\": [\n          \"2.9 GHz\",\n          \"2.6 GHz\",\n          \"1.6 GHz\"\n        ],\n        \"semantic_type\": \"\",\n        \"description\": \"\"\n      }\n    },\n    {\n      \"column\": \"RAM Size\",\n      \"properties\": {\n        \"dtype\": \"category\",\n        \"num_unique_values\": 5,\n        \"samples\": [\n          \"16GB\",\n          \"32GB\",\n          \"64GB\"\n        ],\n        \"semantic_type\": \"\",\n        \"description\": \"\"\n      }\n    },\n    {\n      \"column\": \"Storage Type\",\n      \"properties\": {\n        \"dtype\": \"category\",\n        \"num_unique_values\": 3,\n        \"samples\": [\n          \"SSD\",\n          \"HDD+SSD\",\n          \"HDD\"\n        ],\n        \"semantic_type\": \"\",\n        \"description\": \"\"\n      }\n    },\n    {\n      \"column\": \"Display Type\",\n      \"properties\": {\n        \"dtype\": \"category\",\n        \"num_unique_values\": 8,\n        \"samples\": [\n          \"IPS\",\n          \"PixelSense\",\n          \"LCD\"\n        ],\n        \"semantic_type\": \"\",\n        \"description\": \"\"\n      }\n    },\n    {\n      \"column\": \"Display Size\",\n      \"properties\": {\n        \"dtype\": \"category\",\n        \"num_unique_values\": 6,\n        \"samples\": [\n          \"15.6\\\"\",\n          \"14\\\"\",\n          \"16\\\"\"\n        ],\n        \"semantic_type\": \"\",\n        \"description\": \"\"\n      }\n    },\n    {\n      \"column\": \"Graphics Processor\",\n      \"properties\": {\n        \"dtype\": \"category\",\n        \"num_unique_values\": 8,\n        \"samples\": [\n          \"NVIDIA GTX\",\n          \"Apple M1\",\n          \"Intel UHD\"\n        ],\n        \"semantic_type\": \"\",\n        \"description\": \"\"\n      }\n    },\n    {\n      \"column\": \"Screen Resolution\",\n      \"properties\": {\n        \"dtype\": \"category\",\n        \"num_unique_values\": 7,\n        \"samples\": [\n          \"1920x1080\",\n          \"1366x768\",\n          \"2560x1600\"\n        ],\n        \"semantic_type\": \"\",\n        \"description\": \"\"\n      }\n    },\n    {\n      \"column\": \"OS\",\n      \"properties\": {\n        \"dtype\": \"category\",\n        \"num_unique_values\": 5,\n        \"samples\": [\n          \"Windows 11\",\n          \"Ubuntu\",\n          \"Linux\"\n        ],\n        \"semantic_type\": \"\",\n        \"description\": \"\"\n      }\n    },\n    {\n      \"column\": \"Laptop Weight\",\n      \"properties\": {\n        \"dtype\": \"string\",\n        \"num_unique_values\": 18,\n        \"samples\": [\n          \"2.5 kg\",\n          \"2.3 kg\",\n          \"2.1 kg\"\n        ],\n        \"semantic_type\": \"\",\n        \"description\": \"\"\n      }\n    },\n    {\n      \"column\": \"Special Features\",\n      \"properties\": {\n        \"dtype\": \"string\",\n        \"num_unique_values\": 19,\n        \"samples\": [\n          \"Backlit Keyboard\",\n          \"Dual Cooling Fans\",\n          \"Fingerprint Reader\"\n        ],\n        \"semantic_type\": \"\",\n        \"description\": \"\"\n      }\n    },\n    {\n      \"column\": \"Warranty\",\n      \"properties\": {\n        \"dtype\": \"category\",\n        \"num_unique_values\": 3,\n        \"samples\": [\n          \"1 year\",\n          \"2 years\",\n          \"3 years\"\n        ],\n        \"semantic_type\": \"\",\n        \"description\": \"\"\n      }\n    },\n    {\n      \"column\": \"Average Battery Life\",\n      \"properties\": {\n        \"dtype\": \"string\",\n        \"num_unique_values\": 10,\n        \"samples\": [\n          \"14 hours\",\n          \"4 hours\",\n          \"10 hours\"\n        ],\n        \"semantic_type\": \"\",\n        \"description\": \"\"\n      }\n    },\n    {\n      \"column\": \"Price\",\n      \"properties\": {\n        \"dtype\": \"string\",\n        \"num_unique_values\": 18,\n        \"samples\": [\n          \"35,000\",\n          \"55,000\",\n          \"85,000\"\n        ],\n        \"semantic_type\": \"\",\n        \"description\": \"\"\n      }\n    },\n    {\n      \"column\": \"Description\",\n      \"properties\": {\n        \"dtype\": \"string\",\n        \"num_unique_values\": 20,\n        \"samples\": [\n          \"The Dell Inspiron is a versatile laptop that combines powerful performance and affordability. It features an Intel Core i5 processor clocked at 2.4 GHz, ensuring smooth multitasking and efficient computing. With 8GB of RAM and an SSD, it offers quick data access and ample storage capacity. The laptop sports a vibrant 15.6\\\" LCD display with a resolution of 1920x1080, delivering crisp visuals and immersive viewing experience. Weighing just 2.5 kg, it is highly portable, making it ideal for on-the-go usage. Additionally, it boasts an Intel UHD GPU for decent graphical performance and a backlit keyboard for enhanced typing convenience. With a one-year warranty and a battery life of up to 6 hours, the Dell Inspiron is a reliable companion for work or entertainment. All these features are packed at an affordable price of 35,000, making it an excellent choice for budget-conscious users.\",\n          \"The HP ENVY x360 is a versatile 2-in-1 convertible laptop that combines performance and flexibility. It features an Intel Core i7 processor running at 2.8 GHz, providing powerful processing capabilities for multitasking and productivity. With 16GB of RAM and an SSD, it offers fast and efficient performance along with ample storage space. The laptop features a 15.6\\\" IPS display with a resolution of 1920x1080, delivering vibrant visuals and wide viewing angles. It comes with Intel Iris Xe integrated graphics for smooth graphics performance. Weighing 2.05 kg, it offers a good balance between portability and functionality. The laptop features a convertible design, allowing you to switch between laptop and tablet modes for enhanced versatility. With a one-year warranty and a battery life of up to 7 hours, the HP ENVY x360 offers reliability and endurance for everyday use. Priced at 80,000, it provides a versatile computing experience at an affordable price point.\",\n          \"The ASUS ZenBook 13 is a lightweight and powerful laptop that offers a premium computing experience. It is equipped with an Intel Core i7 processor running at 2.8 GHz, providing strong processing power for multitasking and productivity. With 16GB of RAM and an SSD, it offers fast and responsive performance along with ample storage capacity. The laptop features a 13.3\\\" NanoEdge display with a resolution of 1920x1080, delivering crisp visuals and immersive viewing. It comes with Intel Iris Xe integrated graphics for smooth graphics performance. Weighing just 1.11 kg, it is incredibly lightweight and highly portable. The laptop features military-grade durability, ensuring durability and reliability. With a two-year warranty and an impressive battery life of up to 11 hours, the ASUS ZenBook 13 offers long-lasting performance and endurance. Priced at 95,000, it provides a premium experience for users seeking a powerful and lightweight laptop.\"\n        ],\n        \"semantic_type\": \"\",\n        \"description\": \"\"\n      }\n    }\n  ]\n}"
            }
          },
          "metadata": {},
          "execution_count": 5
        }
      ]
    },
    {
      "cell_type": "code",
      "source": [
        "# If you're using the default OpenAI API key, uncomment the following lines:\n",
        "os.environ['OPENAI_API_KEY'] = userdata.get('OPEN_API_KEY')"
      ],
      "metadata": {
        "id": "a8ZxHnvUSSFw"
      },
      "execution_count": null,
      "outputs": []
    },
    {
      "cell_type": "code",
      "source": [
        "## Function Description for the Function Calling API's\n",
        "\n",
        "function_descriptions = [\n",
        "    {\n",
        "        \"name\": \"compare_laptops_with_user\",\n",
        "        \"description\": \"Get the top 3 laptops from the catalogue that best match the user's preferences based on GPU intensity, display quality, portability, multitasking, processing speed, and budget.\",\n",
        "        \"parameters\": {\n",
        "            \"type\": \"object\",\n",
        "            \"properties\": {\n",
        "                \"gpu_intensity\": {\n",
        "                    \"type\": \"string\",\n",
        "                    \"enum\": [\"low\", \"medium\", \"high\"],\n",
        "                    \"description\": \"GPU capacity requirement classified as low, medium, or high.\"\n",
        "                },\n",
        "                \"display_quality\": {\n",
        "                    \"type\": \"string\",\n",
        "                    \"enum\": [\"low\", \"medium\", \"high\"],\n",
        "                    \"description\": \"Display quality requirement classified as low, medium, or high.\"\n",
        "                },\n",
        "                \"portability\": {\n",
        "                    \"type\": \"string\",\n",
        "                    \"enum\": [\"low\", \"medium\", \"high\"],\n",
        "                    \"description\": \"Portability requirement classified as low, medium, or high.\"\n",
        "                },\n",
        "                \"multitasking\": {\n",
        "                    \"type\": \"string\",\n",
        "                    \"enum\": [\"low\", \"medium\", \"high\"],\n",
        "                    \"description\": \"Multitasking requirement classified as low, medium, or high.\"\n",
        "                },\n",
        "                \"processing_speed\": {\n",
        "                    \"type\": \"string\",\n",
        "                    \"enum\": [\"low\", \"medium\", \"high\"],\n",
        "                    \"description\": \"Processing speed requirement classified as low, medium, or high.\"\n",
        "                },\n",
        "                \"budget\": {\n",
        "                    \"type\": \"integer\",\n",
        "                    \"description\": \"The user's maximum budget.\"\n",
        "                }\n",
        "            },\n",
        "            \"required\": [\n",
        "                \"gpu_intensity\", \"display_quality\", \"portability\",\n",
        "                \"multitasking\", \"processing_speed\", \"budget\"\n",
        "            ]\n",
        "        }\n",
        "    },\n",
        "    {\n",
        "        \"name\": \"intent_confirmation_layer\",\n",
        "        \"description\": \"Evaluates if the user input contains all six required fields with valid values. Returns 'Yes' or 'No' in 'result', and an optional reason if 'No'.\",\n",
        "        \"parameters\": {\n",
        "            \"type\": \"object\",\n",
        "            \"properties\": {\n",
        "                \"response_assistant\": {\n",
        "                    \"type\": \"string\",\n",
        "                    \"description\": \"The assistant's interpretation of the user's hardware requirements.\"\n",
        "                }\n",
        "            },\n",
        "            \"required\": [\"response_assistant\"]\n",
        "        }\n",
        "    },\n",
        "    {\n",
        "       \"name\": \"product_map_layer\",\n",
        "        \"description\": \"Extracts key laptop specs from description and classifies them into categories like GPU intensity, display quality, etc.\",\n",
        "        \"parameters\": {\n",
        "        \"type\": \"object\",\n",
        "        \"properties\": {\n",
        "            \"laptop_description\": {\n",
        "                \"type\": \"string\",\n",
        "                \"description\": \"The detailed textual description of the laptop, including specifications like CPU, GPU, RAM, display, and weight.\"\n",
        "            }\n",
        "        },\n",
        "        \"required\": [\"laptop_description\"]\n",
        "    }\n",
        "    },\n",
        "    {\n",
        "    \"name\": \"initialize_conv_reco\",\n",
        "    \"description\": \"Starts a conversation summarizing laptop products returned as recommendations. Accepts zero, one, or more laptops and returns a conversation formatted for chat completion.\",\n",
        "    \"parameters\": {\n",
        "        \"type\": \"object\",\n",
        "        \"properties\": {\n",
        "            \"products\": {\n",
        "                \"type\": \"array\",\n",
        "                \"items\": {\n",
        "                    \"type\": \"object\",\n",
        "                    \"properties\": {\n",
        "                        \"name\": {\"type\": \"string\", \"description\": \"Laptop name\"},\n",
        "                        \"specs\": {\"type\": \"string\", \"description\": \"Major specifications summary\"},\n",
        "                        \"price\": {\"type\": \"integer\", \"description\": \"Price in Indian Rupees\"}\n",
        "                    },\n",
        "                    \"required\": [\"name\", \"specs\", \"price\"]\n",
        "                },\n",
        "                \"description\": \"List of recommended laptops with name, specs, and price\"\n",
        "            }\n",
        "        },\n",
        "        \"required\": [\"products\"]\n",
        "    }\n",
        "    }\n",
        "]\n"
      ],
      "metadata": {
        "id": "9IevJ2yOk2-H"
      },
      "execution_count": null,
      "outputs": []
    },
    {
      "cell_type": "markdown",
      "source": [
        "### `initialize_conversation()`:\n",
        "This initializes the variable conversation with the system message. Using prompt engineering and chain of thought reasoning, the function will enable thechatbot to keep asking questions until the user requirements have been captured in a dictionary. It also includes Few Shot Prompting(sample conversation between the user and assistant) to align the model about user and assistant responses at each step."
      ],
      "metadata": {
        "id": "oDptc4LMS6dP"
      }
    },
    {
      "cell_type": "code",
      "source": [
        "def initialize_conversation():\n",
        "    delimiter = \"####\"\n",
        "\n",
        "    system_message = f\"\"\"\n",
        "    You are an intelligent laptop gadget expert and your goal is to find the best laptop for a user.\n",
        "    You are trying to understand the user's requirement for these laptop's features: ('gpu intensity','display quality','portability','multitasking','processing speed','budget')\n",
        "    You need to ask relevant questions and understand the user need for each feature by analysing the user's responses.\n",
        "    After understanding their requirements, you'll use a function call to suggest the top 3 laptops with their respective user match score.\n",
        "    Recommend these laptops and answer any user's query about them.\n",
        "\n",
        "    {delimiter} Here are certain guidelines that you need to follow:\n",
        "    Don't ask questions about more than 2 features at a time.\n",
        "    If the user's budget is less than says less than 25000 INR, please mention that there are no laptops in that range.\n",
        "    Recommend the top3 laptops in the following format:\n",
        "    Start with a brief summary of each laptop in the following format, in decreasing order of price of laptops:\n",
        "    1. <Laptop Name> : <Major specifications of the laptop>, <Price in Rs>\n",
        "    2. <Laptop Name> : <Major specifications of the laptop>, <Price in Rs>\n",
        "    3. <Laptop Name> : <Major specifications of the laptop>, <Price in Rs>\n",
        "    {delimiter}\n",
        "\n",
        "    {delimiter}To find the top3 laptops, you need to have the following chain of thoughts:\n",
        "    Thought 1: Ask one question to understand the user's profile and requirements. \\n\n",
        "    If their primary use for the laptop is unclear. Ask another question to comprehend their needs.\n",
        "    Answer \"Yes\" or \"No\" to indicate if you understand the requirements. \\n\n",
        "    If yes, proceed to the next step. Otherwise, rephrase the question to capture their profile. \\n\n",
        "\n",
        "    Thought 2: Now, you are trying to understand the requirements for other features which you couldn't in the previous step.\n",
        "    Ask questions to strengthen your understanding of the user's profile.\n",
        "    Don't ask questions about more than 2 features at a time.\n",
        "    Answer \"Yes\" or \"No\" to indicate if you understood all the needs of the features and are confident about the same.\n",
        "    If yes, move to the next Thought. If no, ask question on the features whose needs you are unsure of. \\n\n",
        "    It is a good practice to ask question with a sound logic as opposed to directly citing the feature you want to understand the need for.{delimiter}\n",
        "    {delimiter}\n",
        "\n",
        "    {delimiter} Here is a sample conversation between the user and assistant:\n",
        "    Assistant: \"Hello! I'm here to help you find the perfect laptop that suits your needs. Could you please share your requirements?\"\n",
        "    User: \"Hi, I am an editor.\"\n",
        "    Assistant: \"Great! As an editor, you likely require a laptop that can handle demanding tasks. Hence, the laptop should have high multitasking capability. You would also need a high end display for better visuals and editing. May I know what kind of work do you primarily focus on? Are you more involved in video editing, photo editing, or both? Understanding the specific type of editing work will help me tailor my recommendations accordingly. Let me know if my understanding is correct until now.\"\n",
        "    User: \"I primarily work with After Effects.\"\n",
        "    Assistant: \"Thank you for providing that information. Working with After Effects involves working with graphics, animations, and rendering, which will require high GPU. Do you work with high-resolution media files, such as 4K videos or RAW photos? Understanding your file sizes will help determine the storage capacity and processing power needed.\"\n",
        "    User: \"Yes, sometimes I work with 4K videos as well.\"\n",
        "    Assistant: \"Thank you for the information. Processing 4K vidoes will require a good processor and high GPU. I think we have already determined earlier that you need a high GPU. To ensure I have a complete understanding of your needs, I have one more question: Are you frequently on the go and require a laptop that is lightweight and easy to carry, or do you primarily work from a stationary location?\"\n",
        "    User: \"Yes, sometimes I travel but do not carry my laptop.\"\n",
        "    Assistant:\"Could you kindly let me know your budget for the laptop? This will help me find options that fit within your price range while meeting the specified requirements.\"\n",
        "    User: \"my max budget is 1.5lakh inr\"\n",
        "    {delimiter}\n",
        "\n",
        "\n",
        "    Start with a short welcome message and encourage the user to share their requirements.\n",
        "    \"\"\"\n",
        "    conversation = [{\"role\": \"system\", \"content\": system_message }]\n",
        "    return conversation"
      ],
      "metadata": {
        "id": "-G11GGbRUKTD"
      },
      "execution_count": null,
      "outputs": []
    },
    {
      "cell_type": "markdown",
      "source": [
        "### `get_chat_completions()`:\n",
        "This takes the ongoing conversation as the input and returns the response by the assistant. We'll use the Chat Completions function for performing LLM calls to OpenAI."
      ],
      "metadata": {
        "id": "D53k3hC4Wjmi"
      }
    },
    {
      "cell_type": "code",
      "source": [
        "def get_chat_model_completions(messages):\n",
        "    try:\n",
        "        response = openai.chat.completions.create(\n",
        "            model=\"gpt-3.5-turbo-1106\",\n",
        "            messages=messages,\n",
        "            temperature=0,\n",
        "            max_tokens=500,\n",
        "            seed=2345,\n",
        "            #tools=function_descriptions,\n",
        "            #tool_choice=\"auto\",\n",
        "        )\n",
        "        return response.choices[0].message  # return the full message object\n",
        "    except openai.OpenAIError as e:\n",
        "        print(f\"OpenAI API error: {e}\")\n",
        "        return None"
      ],
      "metadata": {
        "id": "FgfpoVjLWVVV"
      },
      "execution_count": null,
      "outputs": []
    },
    {
      "cell_type": "code",
      "source": [
        "# Testing the OpenAI functions defined above\n",
        "input_prompt ='What is the capital of Italy?'\n",
        "messages = [{'role':'user','content':input_prompt}]\n",
        "# system_message_json_output = \"\"\"<<. Return output in JSON format.>>\"\"\"\n",
        "# messages[0]['content']+=system_message_json_output\n",
        "messages"
      ],
      "metadata": {
        "colab": {
          "base_uri": "https://localhost:8080/"
        },
        "id": "sKIU8syOWRJO",
        "outputId": "21ed3aec-0ff0-4f9f-ec34-d9c769b8b3b0"
      },
      "execution_count": null,
      "outputs": [
        {
          "output_type": "execute_result",
          "data": {
            "text/plain": [
              "[{'role': 'user', 'content': 'What is the capital of Italy?'}]"
            ]
          },
          "metadata": {},
          "execution_count": 10
        }
      ]
    },
    {
      "cell_type": "code",
      "source": [
        "## Get LLM Outputs - normal\n",
        "get_chat_model_completions(messages) ## Chat Completions API"
      ],
      "metadata": {
        "colab": {
          "base_uri": "https://localhost:8080/"
        },
        "id": "bUJF54nLWYz6",
        "outputId": "cb0d13da-e6fd-41c4-ac0b-7beb38ae51f7"
      },
      "execution_count": null,
      "outputs": [
        {
          "output_type": "execute_result",
          "data": {
            "text/plain": [
              "ChatCompletionMessage(content='The capital of Italy is Rome.', refusal=None, role='assistant', annotations=[], audio=None, function_call=None, tool_calls=None)"
            ]
          },
          "metadata": {},
          "execution_count": 11
        }
      ]
    },
    {
      "cell_type": "markdown",
      "source": [
        "### `moderation_check()`:\n",
        " This checks if the user's or the assistant's message is inappropriate. If any of these is inappropriate, you can add a break statement to end the conversation."
      ],
      "metadata": {
        "id": "0w0_lvjPgS03"
      }
    },
    {
      "cell_type": "code",
      "source": [
        "# Define a function called moderation_check that takes user_input as a parameter.\n",
        "\n",
        "def moderation_check(text_input):\n",
        "    # Call the OpenAI API to perform moderation on the user's input.\n",
        "    response = openai.moderations.create(input=text_input)\n",
        "    # print(response)\n",
        "    # Extract the moderation result from the API response.\n",
        "    moderation_output = response.results[0].flagged\n",
        "    # Check if the input was flagged by the moderation system.\n",
        "    if moderation_output == True:\n",
        "        # If flagged, return \"Flagged\"\n",
        "        return \"Flagged\"\n",
        "    else:\n",
        "        # If not flagged, return \"Not Flagged\"\n",
        "        return \"Not Flagged\""
      ],
      "metadata": {
        "id": "agpvwIasgY2C"
      },
      "execution_count": null,
      "outputs": []
    },
    {
      "cell_type": "markdown",
      "source": [
        "### `intent_confirmation_layer()`:\n",
        "\n",
        "This function takes the assistant's response and evaluates if the chatbot has captured the user's profile clearly. Specifically, this checks if the following properties for the user has been captured or not\n",
        "   - GPU intensity\n",
        "   - Display quality\n",
        "   - Portability\n",
        "   - Multitasking\n",
        "   - Processing speed\n",
        "   - Budget"
      ],
      "metadata": {
        "id": "mqnXvfpqnNIt"
      }
    },
    {
      "cell_type": "code",
      "source": [
        "def intent_confirmation_layer(response_assistant):\n",
        "    allowed_values = {'low', 'medium', 'high'}\n",
        "    required_keys = [\n",
        "        'GPU intensity', 'Display quality', 'Portability',\n",
        "        'Multitasking', 'Processing speed', 'Budget'\n",
        "    ]\n",
        "    try:\n",
        "        user_input = json.loads(response_assistant)\n",
        "        for key in required_keys:\n",
        "            if key not in user_input:\n",
        "                return {\"result\": \"No\", \"reason\": f\"Missing key: {key}\"}\n",
        "            value = user_input[key]\n",
        "            if key == 'Budget':\n",
        "                if not isinstance(value, int):\n",
        "                    return {\"result\": \"No\", \"reason\": \"Budget must be a number.\"}\n",
        "            else:\n",
        "                if value not in allowed_values:\n",
        "                    return {\"result\": \"No\", \"reason\": f\"Invalid value for {key}: {value}\"}\n",
        "        return {\"result\": \"Yes\"}\n",
        "    except Exception as e:\n",
        "        return {\"result\": \"No\", \"reason\": str(e)}"
      ],
      "metadata": {
        "id": "9yohB4jSn1R7"
      },
      "execution_count": null,
      "outputs": []
    },
    {
      "cell_type": "markdown",
      "source": [
        "### Implementing the Product Mapping and Information Extraction Layers\n",
        "\n",
        "In this section, we take in the output of the previous layers, i.e. the user requirements, which is in the format of a Python dictionary.\n",
        "<br>\n",
        "Next we will extract the top 3 laptop recommendations based on user's requirements.\n",
        "\n",
        "This stage consists of the following helper functions that will implement the information extraction and product matching layers."
      ],
      "metadata": {
        "id": "rukiXX5rCe3a"
      }
    },
    {
      "cell_type": "markdown",
      "source": [
        "### `product_map_layer()`:\n",
        "\n",
        "This function is responsible for extracting key features and criteria from laptop descriptions. Here's a breakdown of how it works:\n",
        "\n",
        "-  Use a prompt that assign it the role of a Laptop Specifications Classifier, whose objective is to extract key features and classify them based on laptop descriptions.\n",
        "\n",
        "- Provide step-by-step instructions for extracting laptop features from description.\n",
        "\n",
        "- Assign specific rules for each feature (e.g., GPU Intensity, Display Quality, Portability, Multitasking, Processing Speed) and associate them with the appropriate classification value (Low, Medium, or High).\n",
        "\n",
        "- Includes Few Shot Prompting (sample conversation between the user and assistant) to demonstrate the expected result of the feature extraction and classification process."
      ],
      "metadata": {
        "id": "G59ZEPyyDFF2"
      }
    },
    {
      "cell_type": "code",
      "source": [
        "def product_map_layer(laptop_description):\n",
        "    delimiter = \"#####\"\n",
        "\n",
        "    lap_spec = {\n",
        "        \"GPU intensity\": \"(Type of the Graphics Processor)\",\n",
        "        \"Display quality\": \"(Display Type, Screen Resolution, Display Size)\",\n",
        "        \"Portability\": \"(Laptop Weight)\",\n",
        "        \"Multitasking\": \"(RAM Size)\",\n",
        "        \"Processing speed\": \"(CPU Type, Core, Clock Speed)\"\n",
        "    }\n",
        "\n",
        "    values = {'low', 'medium', 'high'}\n",
        "\n",
        "    prompt = f\"\"\"\n",
        "    You are a Laptop Specifications Classifier whose job is to extract the key features of laptops and classify them as per their requirements.\n",
        "    To analyze each laptop, perform the following steps:\n",
        "    Step 1: Extract the laptop's primary features from the description {laptop_description}\n",
        "    Step 2: Store the extracted features in {lap_spec}\n",
        "    Step 3: Classify each of the items in {lap_spec} into {values} based on the following rules:\n",
        "    {delimiter}\n",
        "    GPU Intensity:\n",
        "    - low: <<< if GPU is entry-level such as an integrated graphics processor or entry-level dedicated graphics like Intel UHD >>> ,\n",
        "    - medium: <<< if mid-range dedicated graphics like M1, AMD Radeon, Intel Iris >>> ,\n",
        "    - high: <<< high-end dedicated graphics like Nvidia RTX >>> ,\n",
        "\n",
        "    Display Quality:\n",
        "    - low: <<< if resolution is below Full HD (e.g., 1366x768). >>> ,\n",
        "    - medium: <<< if Full HD resolution (1920x1080) or higher. >>> ,\n",
        "    - high: <<< if High-resolution display (e.g., 4K, Retina) with excellent color accuracy and features like HDR support. >>>\n",
        "\n",
        "    Portability:\n",
        "    - high: <<< if laptop weight is less than 1.51 kg >>> ,\n",
        "    - medium: <<< if laptop weight is between 1.51 kg and 2.51 kg >>> ,\n",
        "    - low: <<< if laptop weight is greater than 2.51 kg >>>\n",
        "\n",
        "    Multitasking:\n",
        "    - low: <<< If RAM size is 8 GB, 12 GB >>> ,\n",
        "    - medium: <<< if RAM size is 16 GB >>> ,\n",
        "    - high: <<< if RAM size is 32 GB, 64 GB >>>\n",
        "\n",
        "    Processing Speed:\n",
        "    - low: <<< if entry-level processors like Intel Core i3, AMD Ryzen 3 >>> ,\n",
        "    - medium: <<< if Mid-range processors like Intel Core i5, AMD Ryzen 5 >>> ,\n",
        "    - high: <<< if High-performance processors like Intel Core i7, AMD Ryzen 7 or higher >>>\n",
        "    {delimiter}\n",
        "\n",
        "    {delimiter}\n",
        "    Here is input output pair for few-shot learning:\n",
        "    input 1: \"The Dell Inspiron is a versatile laptop that combines powerful performance and affordability. It features an Intel Core i5 processor clocked at 2.4 GHz, ensuring smooth multitasking and efficient computing. With 8GB of RAM and an SSD, it offers quick data access and ample storage capacity. The laptop sports a vibrant 15.6\" LCD display with a resolution of 1920x1080, delivering crisp visuals and immersive viewing experience. Weighing just 2.5 kg, it is highly portable, making it ideal for on-the-go usage. Additionally, it boasts an Intel UHD GPU for decent graphical performance and a backlit keyboard for enhanced typing convenience. With a one-year warranty and a battery life of up to 6 hours, the Dell Inspiron is a reliable companion for work or entertainment. All these features are packed at an affordable price of 35,000, making it an excellent choice for budget-conscious users.\"\n",
        "    output 1: {{'GPU intensity': 'medium','Display quality':'medium','Portability':'medium','Multitasking':'high','Processing speed':'medium'}}\n",
        "\n",
        "    {delimiter}\n",
        "    ### Strictly don't keep any other text in the values of the JSON dictionary other than low or medium or high ###\n",
        "    \"\"\"\n",
        "\n",
        "    input_msg = f\"\"\"Follow the above instructions step-by-step and output the dictionary in JSON format {lap_spec} for the following laptop {laptop_description}.\"\"\"\n",
        "\n",
        "    messages = [\n",
        "        {\"role\": \"system\", \"content\": prompt},\n",
        "        {\"role\": \"user\", \"content\": input_msg}\n",
        "    ]\n",
        "\n",
        "    response = openai.chat.completions.create(\n",
        "        model=\"gpt-3.5-turbo\",  # Supports response_format\n",
        "        messages=messages,\n",
        "        response_format = { \"type\": \"json_object\"}\n",
        "    )\n",
        "\n",
        "    return json.loads(response.choices[0].message.content)"
      ],
      "metadata": {
        "id": "SdvBKQd5Gbfz"
      },
      "execution_count": null,
      "outputs": []
    },
    {
      "cell_type": "code",
      "source": [
        "laptop_description_1 = f\"\"\"\n",
        "The Dell Inspiron is a versatile laptop that combines powerful performance and affordability.\n",
        "It features an Intel Core i5 processor clocked at 2.4 GHz, ensuring smooth multitasking and efficient computing.\n",
        "With 8GB of RAM and an SSD, it offers quick data access and ample storage capacity.\n",
        "The laptop sports a vibrant 15.6\" LCD display with a resolution of 1920x1080, delivering crisp visuals and immersive viewing experience.\n",
        "Weighing just 2.5 kg, it is highly portable, making it ideal for on-the-go usage.\n",
        "Additionally, it boasts an Intel UHD GPU for decent graphical performance and a backlit keyboard for enhanced typing convenience.\n",
        "With a one-year warranty and a battery life of up to 6 hours, the Dell Inspiron is a reliable companion for work or entertainment.\n",
        "All these features are packed at an affordable price of 35,000, making it an excellent choice for budget-conscious users.\n",
        "\"\"\""
      ],
      "metadata": {
        "id": "UL3tENP2GJCt"
      },
      "execution_count": null,
      "outputs": []
    },
    {
      "cell_type": "code",
      "source": [
        "display(product_map_layer(laptop_description_1))"
      ],
      "metadata": {
        "colab": {
          "base_uri": "https://localhost:8080/",
          "height": 104
        },
        "id": "C_ww0bEeGXGW",
        "outputId": "b0c7d8b8-391f-499a-b988-4a5b23b4cc75"
      },
      "execution_count": null,
      "outputs": [
        {
          "output_type": "display_data",
          "data": {
            "text/plain": [
              "{'GPU intensity': 'medium',\n",
              " 'Display quality': 'medium',\n",
              " 'Portability': 'medium',\n",
              " 'Multitasking': 'high',\n",
              " 'Processing speed': 'medium'}"
            ]
          },
          "metadata": {}
        }
      ]
    },
    {
      "cell_type": "markdown",
      "source": [],
      "metadata": {
        "id": "MQM96ueAGWuz"
      }
    },
    {
      "cell_type": "markdown",
      "source": [
        "Let's now apply this function to the entire laptop dataset"
      ],
      "metadata": {
        "id": "QnEO1RadJXzC"
      }
    },
    {
      "cell_type": "code",
      "source": [
        "##Run this code once to extract product info in the form of a dictionary\n",
        "laptop_df= pd.read_csv('laptop_data.csv')\n",
        "\n",
        "## Create a new column \"laptop_feature\" that contains the dictionary of the product features\n",
        "laptop_df['laptop_feature'] = laptop_df['Description'].apply(lambda x: product_map_layer(x))"
      ],
      "metadata": {
        "id": "yFlNFjkjJZyL"
      },
      "execution_count": null,
      "outputs": []
    },
    {
      "cell_type": "code",
      "source": [
        "laptop_df.to_csv(\"updated_laptop.csv\",index=False,header = True)"
      ],
      "metadata": {
        "id": "dXR0iV7EJjkr"
      },
      "execution_count": null,
      "outputs": []
    },
    {
      "cell_type": "markdown",
      "source": [
        "### `compare_laptops_with_user()`:\n",
        "\n",
        "This function compares the user's profile with the different laptops and come back with the top  recommendations. It will perform the following steps:\n",
        "    - It will take the user requirements dictionary as input\n",
        "    - Filter the laptops based on their price, keeping only the ones within the user's budget.\n",
        "    - Calculate a score for each laptop based on how well it matches the user's requirements.\n",
        "    - Sort the laptops based on their scores in descending order.\n",
        "    - Return the top 3 laptops as a JSON-formatted string."
      ],
      "metadata": {
        "id": "_ugbf-SrKvM4"
      }
    },
    {
      "cell_type": "code",
      "source": [
        "import re\n",
        "\n",
        "def parse_budget(budget_str):\n",
        "    # Remove commas and non-digit characters\n",
        "    clean_str = re.sub(r\"[^\\d]\", \"\", str(budget_str))\n",
        "    return int(clean_str) if clean_str else 0"
      ],
      "metadata": {
        "id": "cYaJ4dBrMddw"
      },
      "execution_count": null,
      "outputs": []
    },
    {
      "cell_type": "code",
      "source": [
        "def extract_dictionary_from_string(string):\n",
        "    regex_pattern = r\"\\{[^{}]+\\}\"\n",
        "\n",
        "    dictionary_matches = re.findall(regex_pattern, string)\n",
        "\n",
        "    # Extract the first dictionary match and convert it to lowercase\n",
        "    if dictionary_matches:\n",
        "        dictionary_string = dictionary_matches[0]\n",
        "        dictionary_string = dictionary_string.lower()\n",
        "\n",
        "        # Convert the dictionary string to a dictionary object using ast.literal_eval()\n",
        "        dictionary = ast.literal_eval(dictionary_string)\n",
        "    return dictionary\n",
        "\n",
        "def compare_laptops_with_user(user_req_string):\n",
        "  budget = parse_budget(user_req_string.get(\"budget\", 0))\n",
        "  #budget = user_req_string.get('budget', '0')\n",
        "  laptop_df= pd.read_csv('updated_laptop.csv')\n",
        "  filtered_laptops = laptop_df.copy()\n",
        "  filtered_laptops['Price'] = filtered_laptops['Price'].str.replace(',','').astype(int)\n",
        "  filtered_laptops = filtered_laptops[filtered_laptops['Price'] <= budget].copy()\n",
        "\n",
        "  mappings = {\n",
        "          'low': 0,\n",
        "          'medium': 1,\n",
        "          'high': 2\n",
        "      }\n",
        "  # Create 'Score' column in the DataFrame and initialize to 0\n",
        "  filtered_laptops['Score'] = 0\n",
        "  for index, row in filtered_laptops.iterrows():\n",
        "      user_product_match_str = row['laptop_feature']\n",
        "      laptop_values = extract_dictionary_from_string(user_product_match_str)\n",
        "      score = 0\n",
        "\n",
        "      for key, user_value in user_req_string.items():\n",
        "        if key.lower() == 'budget':\n",
        "            continue  # Skip budget comparison\n",
        "        laptop_value = laptop_values.get(key, None)\n",
        "        laptop_mapping = mappings.get(laptop_value.lower(), -1)\n",
        "        user_mapping = mappings.get(user_value.lower(), -1)\n",
        "        if laptop_mapping >= user_mapping:\n",
        "          ### If the laptop value is greater than or equal to the user value the score is incremented by 1\n",
        "          score += 1\n",
        "\n",
        "      filtered_laptops.loc[index, 'Score'] = score\n",
        "\n",
        "  # Sort the laptops by score in descending order and return the top 5 products\n",
        "  top_laptops = filtered_laptops.drop('laptop_feature', axis=1)\n",
        "  top_laptops = top_laptops.sort_values('Score', ascending=False).head(3)\n",
        "\n",
        "  return top_laptops.to_json(orient='records')\n",
        "\n",
        "\n",
        "def recommendation_validation(laptop_recommendation):\n",
        "\n",
        "    data = json.loads(laptop_recommendation)\n",
        "    data1 = []\n",
        "    for i in range(len(data)):\n",
        "      if data[i]['Score'] > 2:\n",
        "        data1.append(data[i])\n",
        "    return json.dumps(data1)"
      ],
      "metadata": {
        "id": "gpv85HWBTtp_"
      },
      "execution_count": null,
      "outputs": []
    },
    {
      "cell_type": "markdown",
      "source": [
        "### Product Recommendation Layer\n",
        "\n",
        "Finally, we come to the product recommendation layer. It takes the output from the `compare_laptops_with_user` function in the previous layer and provides the recommendations to the user. It has the following steps.\n",
        "1. ialize the conversation for recommendation.\n",
        "2. Generate the recommendations and display in a presentable format.\n",
        "3. Ask questions basis the recommendations."
      ],
      "metadata": {
        "id": "Jg1GcOtoZCmE"
      }
    },
    {
      "cell_type": "code",
      "source": [
        "def initialize_conv_reco(products):\n",
        "    system_message = f\"\"\"\n",
        "    You are an intelligent laptop gadget expert and you are tasked with the objective to \\\n",
        "    solve the user queries about any product from the catalogue in the user message \\\n",
        "    You should keep the user profile in mind while answering the questions.\\\n",
        "\n",
        "    Start with a brief summary of each laptop in the following format, in decreasing order of price of laptops:\n",
        "    1. <Laptop Name> : <Major specifications of the laptop>, <Price in Rs>\n",
        "    2. <Laptop Name> : <Major specifications of the laptop>, <Price in Rs>\n",
        "\n",
        "    \"\"\"\n",
        "    user_message = f\"\"\" These are the user's products: {products}\"\"\"\n",
        "    conversation = [{\"role\": \"system\", \"content\": system_message },\n",
        "                    {\"role\":\"user\",\"content\":user_message}]\n",
        "    # conversation_final = conversation[0]['content']\n",
        "    return conversation"
      ],
      "metadata": {
        "id": "bWYJDBPVZML9"
      },
      "execution_count": null,
      "outputs": []
    },
    {
      "cell_type": "markdown",
      "source": [
        "### `is_intent_changed()`:\n",
        "\n",
        "- Detects if the user changes the primary purpose or key preferences mid-conversation (e.g., from gaming to programming).\n",
        "- How: Compares new user input to previous confirmed intents. If there's a shift in purpose or a major change in specs, it resets the conversation context and restarts the recommendation flow."
      ],
      "metadata": {
        "id": "XzQT_vhQNZvP"
      }
    },
    {
      "cell_type": "code",
      "source": [
        "def is_intent_changed(old_intent, new_intent):\n",
        "    \"\"\"\n",
        "    Compare two user intents and return True if purpose or specs have changed significantly.\n",
        "    \"\"\"\n",
        "    if not old_intent or not new_intent:\n",
        "        return False\n",
        "\n",
        "    keys_to_check = ['purpose', 'GPU intensity', 'Display quality', 'Portability', 'Multitasking', 'Processing speed']\n",
        "    changes = sum(1 for key in keys_to_check if old_intent.get(key) != new_intent.get(key))\n",
        "\n",
        "    return changes >= 2  # Allow tolerance for 1 minor change"
      ],
      "metadata": {
        "id": "f5W2TOhqNT7o"
      },
      "execution_count": null,
      "outputs": []
    },
    {
      "cell_type": "code",
      "source": [
        "def dialogue_mgmt_system():\n",
        "    # Step 1: Initialize conversation\n",
        "    conversation = initialize_conversation()\n",
        "    introduction = get_chat_model_completions(conversation).content\n",
        "    print(introduction + '\\n')\n",
        "\n",
        "    user_input = \"\"\n",
        "    current_intent = None\n",
        "\n",
        "    while user_input.lower() != \"exit\":\n",
        "        user_input = input()\n",
        "\n",
        "        # Step 2: Moderation check for user input\n",
        "        moderation = moderation_check(user_input)\n",
        "        if moderation == 'Flagged':\n",
        "            display(\"Sorry, this message has been flagged. Please restart your conversation.\")\n",
        "            break\n",
        "\n",
        "        if user_input.lower() == \"exit\":\n",
        "            print(\"Assistant: Goodbye! Feel free to return anytime for laptop advice.\")\n",
        "            break\n",
        "\n",
        "        # Step 3: Add user input to conversation\n",
        "        conversation.append({\"role\": \"user\", \"content\": user_input})\n",
        "\n",
        "        # Step 4: Get assistant response\n",
        "        response_assistant = get_chat_model_completions(conversation)\n",
        "\n",
        "        # Step 5: Moderation check for assistant output\n",
        "        moderation = moderation_check(response_assistant.content) # Pass only the content\n",
        "        if moderation == 'Flagged':\n",
        "            display(\"Sorry, this message has been flagged. Please restart your conversation.\")\n",
        "            break\n",
        "\n",
        "        # Step 6: Handle function calls\n",
        "        if response_assistant.function_call:\n",
        "            print(\"\\nAssistant: Got it! Let me analyze your needs...\\n\")\n",
        "\n",
        "            # Step 7: Extract intent\n",
        "            function_args = json.loads(response_assistant.function_call.arguments)\n",
        "            new_intent = intent_confirmation_layer(json.dumps(function_args))\n",
        "\n",
        "            # Step 8: Compare with current intent\n",
        "            if current_intent and is_intent_changed(current_intent, new_intent):\n",
        "                print(\"Assistant: Looks like your laptop needs have changed. Let's start fresh!\\n\")\n",
        "                conversation = initialize_conversation()\n",
        "                conversation.append({\"role\": \"user\", \"content\": user_input})\n",
        "                current_intent = None\n",
        "                continue\n",
        "\n",
        "            current_intent = new_intent\n",
        "            print(f\"Assistant: Here's how I understood your needs:\\n{new_intent}\\n\")\n",
        "\n",
        "            # Step 9: Recommend laptops\n",
        "            top_3_laptops = compare_laptops_with_user(current_intent)\n",
        "            function_response = recommendation_validation(top_3_laptops)\n",
        "            print(f\"your 3 products:\\n{function_response}\\n\")\n",
        "            conversation_reco = initialize_conv_reco(function_response)\n",
        "\n",
        "            # Step 10: Handle empty recommendations\n",
        "            if len(conversation_reco) == 0:\n",
        "                print(\"Assistant: Sorry, no laptops matched your requirements. Let me connect you with a human expert.\")\n",
        "                break\n",
        "\n",
        "            # Step 11: Send function response to GPT\n",
        "            conversation.append(response_assistant)\n",
        "            conversation.append({\n",
        "                \"role\": \"function\",\n",
        "                \"name\": response_assistant.function_call.name,\n",
        "                \"content\": conversation_reco,\n",
        "            })\n",
        "\n",
        "            # Step 12: Final assistant response\n",
        "            final_response = get_chat_model_completions(conversation)\n",
        "            conversation.append({\"role\": \"assistant\", \"content\": final_response.content})\n",
        "            print(\"\\nAssistant:\\n\" + final_response.content + \"\\n\")\n",
        "\n",
        "        else:\n",
        "            # Step 13: Normal assistant message\n",
        "            conversation.append({\"role\": \"assistant\", \"content\": response_assistant.content})\n",
        "            print(\"\\nAssistant:\\n\" + response_assistant.content + \"\\n\")"
      ],
      "metadata": {
        "id": "-ujSSeMBcrqo"
      },
      "execution_count": null,
      "outputs": []
    },
    {
      "cell_type": "code",
      "source": [
        "dialogue_mgmt_system()"
      ],
      "metadata": {
        "colab": {
          "base_uri": "https://localhost:8080/"
        },
        "id": "q94aciKcNKrN",
        "outputId": "8dca41a2-80c7-4e22-a300-b8b8f41aff45"
      },
      "execution_count": null,
      "outputs": [
        {
          "output_type": "stream",
          "name": "stdout",
          "text": [
            "\n",
            "    Hello! I'm here to help you find the perfect laptop that suits your needs. Could you please share your requirements?\n",
            "\n",
            "Hi\n",
            "\n",
            "Assistant:\n",
            "Hello! I'm here to help you find the perfect laptop that suits your needs. Could you please share your requirements?\n",
            "\n",
            "I am looking to purchase laptop for Gaming\n",
            "\n",
            "Assistant:\n",
            "Great! As a gamer, you likely require a laptop with high GPU intensity for smooth gaming experience. You would also need a high-quality display for better visuals and a good processing speed for seamless gameplay. May I know if you prioritize portability for gaming on the go, or do you primarily use the laptop in a stationary location? Understanding your gaming habits will help me tailor my recommendations accordingly. Let me know if my understanding is correct until now.\n",
            "\n",
            "I prefer to carry always\n",
            "\n",
            "Assistant:\n",
            "Got it! Portability is a key factor for you. Now, let's talk about the budget. What is your budget for the laptop? This will help me find options that fit within your price range while meeting the specified requirements.\n",
            "\n",
            "Looking to purchase laptop for Programming\n",
            "\n",
            "Assistant:\n",
            "Understood! As a programmer, you likely require a laptop with good multitasking capability, high processing speed, and a decent display for long coding sessions. May I know if you prioritize portability for coding on the go, or do you primarily use the laptop in a stationary location? Understanding your coding habits will help me tailor my recommendations accordingly. Let me know if my understanding is correct until now.\n",
            "\n",
            "I don't travel much\n",
            "\n",
            "Assistant:\n",
            "Thank you for providing that information. Since you don't travel much, portability might not be a top priority for you. Now, let's talk about the budget. What is your budget for the laptop? This will help me find options that fit within your price range while meeting the specified requirements.\n",
            "\n",
            "I looking around 60,000 INR\n",
            "\n",
            "Assistant:\n",
            "Great! Thank you for sharing your budget. Based on your requirements, I will now suggest the top 3 laptops that fit your needs and budget. Please give me a moment to analyze and provide you with the best options.\n",
            "\n",
            "super\n",
            "\n",
            "Assistant:\n",
            "After analyzing your requirements, here are the top 3 laptops that fit your needs and budget:\n",
            "\n",
            "1. HP Pavilion Gaming Laptop: This laptop is equipped with a powerful GPU, high-quality display, and fast processing speed, making it ideal for gaming. It offers great value for its price and is priced at around 60,000 INR.\n",
            "\n",
            "2. Dell Inspiron 15 5000 Series: This laptop offers a good balance of performance and affordability, with a decent GPU, display, and processing speed. It is priced at around 55,000 INR, making it a cost-effective option for your needs.\n",
            "\n",
            "3. Acer Aspire 7: With a dedicated GPU, good display quality, and reliable processing speed, this laptop is a solid choice for gaming and programming. It is priced at around 58,000 INR, fitting well within your budget.\n",
            "\n",
            "These laptops are tailored to meet your gaming and programming requirements while staying within your budget. If you have any further questions or need more details about these laptops, feel free to ask!\n",
            "\n",
            "exit\n",
            "Assistant: Goodbye! Feel free to return anytime for laptop advice.\n"
          ]
        }
      ]
    },
    {
      "cell_type": "code",
      "source": [],
      "metadata": {
        "id": "mKf3seAqWrV3"
      },
      "execution_count": null,
      "outputs": []
    }
  ]
}